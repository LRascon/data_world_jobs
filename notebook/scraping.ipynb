{
 "cells": [
  {
   "cell_type": "markdown",
   "id": "6a0db4be-47f2-4b29-8ca9-480b75dc49e9",
   "metadata": {},
   "source": [
    "# Scraping sobre ai-jobs.net"
   ]
  },
  {
   "cell_type": "markdown",
   "id": "d191e2e1-4602-4265-930a-fe928356a630",
   "metadata": {},
   "source": [
    "## Librerias"
   ]
  },
  {
   "cell_type": "code",
   "execution_count": 1,
   "id": "4cafa465-b2cc-4c6f-8a65-ba0f0cb430c2",
   "metadata": {
    "execution": {
     "iopub.execute_input": "2023-04-11T22:08:19.935071Z",
     "iopub.status.busy": "2023-04-11T22:08:19.934824Z",
     "iopub.status.idle": "2023-04-11T22:08:19.938185Z",
     "shell.execute_reply": "2023-04-11T22:08:19.937632Z",
     "shell.execute_reply.started": "2023-04-11T22:08:19.935043Z"
    },
    "tags": []
   },
   "outputs": [],
   "source": [
    "import requests\n",
    "from bs4 import BeautifulSoup"
   ]
  },
  {
   "cell_type": "markdown",
   "id": "97a4833a-e187-45f7-836c-85d01c229203",
   "metadata": {},
   "source": [
    "## Conexión a JOBS_URL"
   ]
  },
  {
   "cell_type": "code",
   "execution_count": 2,
   "id": "3977a7f9-e05b-4866-96e3-9b810bfbf372",
   "metadata": {
    "execution": {
     "iopub.execute_input": "2023-04-11T22:08:19.939346Z",
     "iopub.status.busy": "2023-04-11T22:08:19.939124Z",
     "iopub.status.idle": "2023-04-11T22:08:19.951196Z",
     "shell.execute_reply": "2023-04-11T22:08:19.950634Z",
     "shell.execute_reply.started": "2023-04-11T22:08:19.939315Z"
    },
    "tags": []
   },
   "outputs": [],
   "source": [
    "# pagina de ai-jobs.net sobre analyst, etc.\n",
    "JOBS_URL = 'https://ai-jobs.net/?cat=12&cat=10&cat=3&cat=6&cat=2&cat=5&cat=15&cat=16&key=&exp='"
   ]
  },
  {
   "cell_type": "code",
   "execution_count": 3,
   "id": "89c2add0-b1ca-4051-b036-5b49af571c66",
   "metadata": {
    "execution": {
     "iopub.execute_input": "2023-04-11T22:08:19.952155Z",
     "iopub.status.busy": "2023-04-11T22:08:19.951938Z",
     "iopub.status.idle": "2023-04-11T22:08:21.553751Z",
     "shell.execute_reply": "2023-04-11T22:08:21.553094Z",
     "shell.execute_reply.started": "2023-04-11T22:08:19.952136Z"
    },
    "tags": []
   },
   "outputs": [],
   "source": [
    "# conectarse a la URL\n",
    "response = requests.get(JOBS_URL)"
   ]
  },
  {
   "cell_type": "code",
   "execution_count": 4,
   "id": "6556c2c2-5cef-405f-b20f-a5b582bc89b0",
   "metadata": {
    "execution": {
     "iopub.execute_input": "2023-04-11T22:08:21.555458Z",
     "iopub.status.busy": "2023-04-11T22:08:21.555225Z",
     "iopub.status.idle": "2023-04-11T22:08:23.092340Z",
     "shell.execute_reply": "2023-04-11T22:08:23.091216Z",
     "shell.execute_reply.started": "2023-04-11T22:08:21.555442Z"
    },
    "tags": []
   },
   "outputs": [
    {
     "name": "stdout",
     "output_type": "stream",
     "text": [
      "Conectado...\n"
     ]
    }
   ],
   "source": [
    "try:\n",
    "    response = requests.get(JOBS_URL)\n",
    "    response.raise_for_status()  # Lanza una excepción si el código de estado no es 200\n",
    "    print('Conectado...')\n",
    "except requests.exceptions.HTTPError as err:\n",
    "    print(f'Error: {err}')\n",
    "except requests.exceptions.RequestException as e:\n",
    "    print(f'Error de conexión: {e}')"
   ]
  },
  {
   "cell_type": "markdown",
   "id": "d4d874ea-6d65-4b32-8dd6-a6d4709ffe92",
   "metadata": {},
   "source": [
    "## BeautifulSoup"
   ]
  },
  {
   "cell_type": "code",
   "execution_count": 5,
   "id": "2dd3b96c-4443-49b5-a2e5-46f5e4ba0dc7",
   "metadata": {
    "execution": {
     "iopub.execute_input": "2023-04-11T22:08:23.094877Z",
     "iopub.status.busy": "2023-04-11T22:08:23.094323Z",
     "iopub.status.idle": "2023-04-11T22:08:23.344602Z",
     "shell.execute_reply": "2023-04-11T22:08:23.343840Z",
     "shell.execute_reply.started": "2023-04-11T22:08:23.094821Z"
    },
    "tags": []
   },
   "outputs": [],
   "source": [
    "soup = BeautifulSoup(response.content, 'html.parser')"
   ]
  },
  {
   "cell_type": "code",
   "execution_count": 6,
   "id": "9bd7f6a5-b54f-4b1c-8e8c-54f831cdc21a",
   "metadata": {
    "execution": {
     "iopub.execute_input": "2023-04-11T22:08:23.345655Z",
     "iopub.status.busy": "2023-04-11T22:08:23.345395Z",
     "iopub.status.idle": "2023-04-11T22:08:23.357761Z",
     "shell.execute_reply": "2023-04-11T22:08:23.357106Z",
     "shell.execute_reply.started": "2023-04-11T22:08:23.345628Z"
    },
    "tags": []
   },
   "outputs": [
    {
     "data": {
      "text/plain": [
       "<li class=\"list-group-item list-group-item-action p-1\">\n",
       "<div class=\"row\">\n",
       "<div class=\"col-2 col-sm-1 py-2\">\n",
       "<a href=\"/jobs-at-the-wild-neighbors-database-project/\" title=\"Show all open positions at The Wild Neighbors Database Project\">\n",
       "<img alt=\"The Wild Neighbors Database Project logo\" class=\"mx-auto my-1 d-block\" height=\"48\" loading=\"lazy\" src=\"/media/cache/b3/99/b399910c288f467c84225492514893ba.jpg\" width=\"48\"/>\n",
       "</a>\n",
       "<div class=\"d-flex justify-content-center mt-3\">\n",
       "<a class=\"btn-direct-apply text-body-emphasis p-1\" href=\"mailto:devin.dombrowski@wildneighborsdp.org?subject=Remote%20AI/ML%20Engineer%20in%20Wildlife%20Conservation at The%20Wild%20Neighbors%20Database%20Project (via ai-jobs.net)\" id=\"47153\" title=\"Apply for this job directly via email: devin.dombrowski@wildneighborsdp.org\"><i class=\"fas fa-edit\"></i></a>\n",
       "<a class=\"btn-direct-apply text-body-emphasis p-1\" href=\"/job/mark/47153/create/\" rel=\"nofollow\" title=\"Save this job for later application\"><i class=\"fas fa-list-ol\"></i></a>\n",
       "</div>\n",
       "</div>\n",
       "<a class=\"col pt-2 pb-3\" href=\"/job/47153-remote-aiml-engineer-in-wildlife-conservation/\" title=\"View details for this job\">\n",
       "<div class=\"float-end text-end text-body d-inline-block w-25 ms-2\">\n",
       "<span class=\"d-block d-md-none text-break\">Remote, US</span>\n",
       "<span class=\"d-none d-md-block text-break\">Remote, US</span>\n",
       "<span class=\"badge rounded-pill text-bg-secondary my-md-1 ms-1\">Contract</span>\n",
       "<div class=\"d-block\">\n",
       "<span class=\"badge rounded-pill text-bg-info my-md-1 d-md-none\">Mid</span>\n",
       "<span class=\"badge rounded-pill text-bg-info my-md-1 d-none d-md-inline-block\">Mid-level</span>\n",
       "</div>\n",
       "<div class=\"d-block\">\n",
       "<span class=\"badge rounded-pill text-bg-success d-none d-md-inline-block\">USD 25K - 30K</span>\n",
       "<span class=\"badge rounded-pill text-bg-success d-md-none\">USD 25K+</span>\n",
       "</div>\n",
       "</div>\n",
       "<p class=\"m-0 text-muted\">The Wild Neighbors Database Project</p>\n",
       "<h3 class=\"h5 mb-2 text-body-emphasis\">Remote AI/ML Engineer in Wildlife Conservation</h3>\n",
       "<span class=\"badge rounded-pill text-bg-light\">APIs</span>\n",
       "<span class=\"badge rounded-pill text-bg-light\">Classification</span>\n",
       "<span class=\"badge rounded-pill text-bg-light\">Data management</span>\n",
       "<span class=\"badge rounded-pill text-bg-light\">GitHub</span>\n",
       "<span class=\"badge rounded-pill text-bg-light\">Keras</span>\n",
       "<span class=\"badge rounded-pill text-bg-light\">Machine Learning</span>\n",
       "<span class=\"badge rounded-pill text-bg-light\">ML models</span>\n",
       "<span class=\"badge rounded-pill text-bg-light\">+6</span>\n",
       "<br/>\n",
       "<span class=\"badge rounded-pill text-bg-success\">Career development</span>\n",
       "<span class=\"badge rounded-pill text-bg-success\">Health care</span>\n",
       "</a>\n",
       "</div>\n",
       "</li>"
      ]
     },
     "execution_count": 6,
     "metadata": {},
     "output_type": "execute_result"
    }
   ],
   "source": [
    "results = soup.find('ul', {'class':'list-group list-group-flush mb-4'}).find_all('li', {'class': 'list-group-item list-group-item-action p-1'})\n",
    "\n",
    "results[0]"
   ]
  },
  {
   "cell_type": "markdown",
   "id": "17f2c656-209c-4813-bdaf-3f8d9ac2ae69",
   "metadata": {},
   "source": [
    "- jobs_title = publicacion de trabajo\n",
    "- level = Senior, Junior, etc\n",
    "- job_type = fulltime, freelance, etc\n",
    "- salary_range = en dolar\n",
    "- benefits = beneficios auxiliares\n",
    "- onsite_remote = si es o no remoto\n",
    "- category_name =  data engineer, etc\n",
    "- company_name = nombre de la empresa\n",
    "- location_name = pais\n",
    "- skill_name = python, sql, etc"
   ]
  },
  {
   "cell_type": "code",
   "execution_count": 7,
   "id": "805d28a4-66a8-447b-ab6f-97f7bfcb1a6d",
   "metadata": {
    "execution": {
     "iopub.execute_input": "2023-04-11T22:08:23.358955Z",
     "iopub.status.busy": "2023-04-11T22:08:23.358595Z",
     "iopub.status.idle": "2023-04-11T22:08:23.373758Z",
     "shell.execute_reply": "2023-04-11T22:08:23.373224Z",
     "shell.execute_reply.started": "2023-04-11T22:08:23.358926Z"
    },
    "tags": []
   },
   "outputs": [
    {
     "data": {
      "text/plain": [
       "'Remote AI/ML Engineer in Wildlife Conservation'"
      ]
     },
     "execution_count": 7,
     "metadata": {},
     "output_type": "execute_result"
    }
   ],
   "source": [
    "jobs_title = results[0].find('h3', {'class': 'h5 mb-2 text-body-emphasis'}).get_text()\n",
    "jobs_title"
   ]
  },
  {
   "cell_type": "code",
   "execution_count": 8,
   "id": "43362ac9-f333-4754-8f49-66431a568959",
   "metadata": {
    "execution": {
     "iopub.execute_input": "2023-04-11T22:08:23.374680Z",
     "iopub.status.busy": "2023-04-11T22:08:23.374407Z",
     "iopub.status.idle": "2023-04-11T22:08:23.382059Z",
     "shell.execute_reply": "2023-04-11T22:08:23.381541Z",
     "shell.execute_reply.started": "2023-04-11T22:08:23.374657Z"
    },
    "tags": []
   },
   "outputs": [
    {
     "data": {
      "text/plain": [
       "'Senior-level'"
      ]
     },
     "execution_count": 8,
     "metadata": {},
     "output_type": "execute_result"
    }
   ],
   "source": [
    "# no funciona en el primer elemento porque no lo tiene. (try/except)\n",
    "level = results[1].find('span', {'class': 'badge rounded-pill text-bg-info my-md-1 d-none d-md-inline-block'}).get_text()\n",
    "level"
   ]
  },
  {
   "cell_type": "code",
   "execution_count": 9,
   "id": "458dfbf2-926d-416f-abca-d7d87d05e05b",
   "metadata": {
    "execution": {
     "iopub.execute_input": "2023-04-11T22:08:23.384024Z",
     "iopub.status.busy": "2023-04-11T22:08:23.383767Z",
     "iopub.status.idle": "2023-04-11T22:08:23.388280Z",
     "shell.execute_reply": "2023-04-11T22:08:23.387687Z",
     "shell.execute_reply.started": "2023-04-11T22:08:23.384006Z"
    },
    "tags": []
   },
   "outputs": [
    {
     "data": {
      "text/plain": [
       "'Contract'"
      ]
     },
     "execution_count": 9,
     "metadata": {},
     "output_type": "execute_result"
    }
   ],
   "source": [
    "job_type = results[0].find('span', {'class': 'badge rounded-pill text-bg-secondary my-md-1 ms-1'}).get_text()\n",
    "job_type"
   ]
  },
  {
   "cell_type": "code",
   "execution_count": 10,
   "id": "30e201cc-c5b4-412c-83b8-747154159247",
   "metadata": {
    "execution": {
     "iopub.execute_input": "2023-04-11T22:08:23.389320Z",
     "iopub.status.busy": "2023-04-11T22:08:23.389108Z",
     "iopub.status.idle": "2023-04-11T22:08:23.393699Z",
     "shell.execute_reply": "2023-04-11T22:08:23.392996Z",
     "shell.execute_reply.started": "2023-04-11T22:08:23.389300Z"
    },
    "tags": []
   },
   "outputs": [
    {
     "data": {
      "text/plain": [
       "'USD 25K - 30K'"
      ]
     },
     "execution_count": 10,
     "metadata": {},
     "output_type": "execute_result"
    }
   ],
   "source": [
    "salary_range = results[0].find('span', {'class': 'badge rounded-pill text-bg-success d-none d-md-inline-block'}).get_text()\n",
    "salary_range"
   ]
  },
  {
   "cell_type": "code",
   "execution_count": 11,
   "id": "23b6d625-0756-4527-8593-3beb8941bf38",
   "metadata": {
    "execution": {
     "iopub.execute_input": "2023-04-11T22:10:45.709226Z",
     "iopub.status.busy": "2023-04-11T22:10:45.708683Z",
     "iopub.status.idle": "2023-04-11T22:10:45.731493Z",
     "shell.execute_reply": "2023-04-11T22:10:45.730744Z",
     "shell.execute_reply.started": "2023-04-11T22:10:45.709201Z"
    },
    "tags": []
   },
   "outputs": [
    {
     "name": "stdout",
     "output_type": "stream",
     "text": [
      "Career development\n",
      "Flex hours\n",
      "Startup environment\n"
     ]
    }
   ],
   "source": [
    "# tener cuidado con los datos faltantes\n",
    "for result in results:\n",
    "    benefits = results[4].find_all('span', {'class': 'badge rounded-pill text-bg-success'})\n",
    "for benefit in benefits:\n",
    "    print(benefit.get_text())\n",
    "# benefits"
   ]
  },
  {
   "cell_type": "code",
   "execution_count": 12,
   "id": "79f2740c-ed8f-4d4c-b5d4-dde93ad2b182",
   "metadata": {
    "execution": {
     "iopub.execute_input": "2023-04-11T22:08:23.416802Z",
     "iopub.status.busy": "2023-04-11T22:08:23.416631Z",
     "iopub.status.idle": "2023-04-11T22:08:23.419401Z",
     "shell.execute_reply": "2023-04-11T22:08:23.418836Z",
     "shell.execute_reply.started": "2023-04-11T22:08:23.416785Z"
    }
   },
   "outputs": [],
   "source": [
    "# En esta pagina se encuentra en el dato del pais. hay que encontrar esa \"remote\" en la seccion de location_name\n",
    "# onsite_remote"
   ]
  },
  {
   "cell_type": "code",
   "execution_count": 127,
   "id": "a77e2cea-8abf-4d02-9a71-df73c440d41f",
   "metadata": {
    "execution": {
     "iopub.execute_input": "2023-04-11T22:08:23.420277Z",
     "iopub.status.busy": "2023-04-11T22:08:23.420102Z",
     "iopub.status.idle": "2023-04-11T22:08:23.422969Z",
     "shell.execute_reply": "2023-04-11T22:08:23.422289Z",
     "shell.execute_reply.started": "2023-04-11T22:08:23.420261Z"
    }
   },
   "outputs": [],
   "source": [
    "# Hay que encontrarlo dentro de \"jobs_title\"\n",
    "# category_name"
   ]
  },
  {
   "cell_type": "code",
   "execution_count": 13,
   "id": "0c62e01b-da7f-4411-bfc1-5d2c7a4883ab",
   "metadata": {
    "execution": {
     "iopub.execute_input": "2023-04-11T22:08:23.423787Z",
     "iopub.status.busy": "2023-04-11T22:08:23.423612Z",
     "iopub.status.idle": "2023-04-11T22:08:23.427967Z",
     "shell.execute_reply": "2023-04-11T22:08:23.427298Z",
     "shell.execute_reply.started": "2023-04-11T22:08:23.423770Z"
    },
    "tags": []
   },
   "outputs": [
    {
     "data": {
      "text/plain": [
       "'The Wild Neighbors Database Project'"
      ]
     },
     "execution_count": 13,
     "metadata": {},
     "output_type": "execute_result"
    }
   ],
   "source": [
    "company_name = results[0].find('p', {'class': 'm-0 text-muted'}).get_text()\n",
    "company_name"
   ]
  },
  {
   "cell_type": "code",
   "execution_count": 129,
   "id": "8e633300-20cd-4055-8add-8cb91f68c8b5",
   "metadata": {
    "execution": {
     "iopub.execute_input": "2023-04-11T22:08:23.429073Z",
     "iopub.status.busy": "2023-04-11T22:08:23.428723Z",
     "iopub.status.idle": "2023-04-11T22:08:23.433487Z",
     "shell.execute_reply": "2023-04-11T22:08:23.432914Z",
     "shell.execute_reply.started": "2023-04-11T22:08:23.429052Z"
    },
    "tags": []
   },
   "outputs": [
    {
     "data": {
      "text/plain": [
       "'Remote, US'"
      ]
     },
     "execution_count": 129,
     "metadata": {},
     "output_type": "execute_result"
    }
   ],
   "source": [
    "location_name = results[0].find('span', {'class': 'd-none d-md-block text-break'}).get_text()\n",
    "location_name"
   ]
  },
  {
   "cell_type": "code",
   "execution_count": 130,
   "id": "4f81596c-3e13-4cef-a384-4316a66f49b4",
   "metadata": {
    "execution": {
     "iopub.execute_input": "2023-04-11T22:08:23.434615Z",
     "iopub.status.busy": "2023-04-11T22:08:23.434197Z",
     "iopub.status.idle": "2023-04-11T22:08:23.453604Z",
     "shell.execute_reply": "2023-04-11T22:08:23.453009Z",
     "shell.execute_reply.started": "2023-04-11T22:08:23.434592Z"
    },
    "tags": []
   },
   "outputs": [
    {
     "name": "stdout",
     "output_type": "stream",
     "text": [
      "Airflow\n",
      "Architecture\n",
      "Big Data\n",
      "Business Intelligence\n",
      "Computer Science\n",
      "DevOps\n",
      "Engineering\n",
      "+12\n"
     ]
    }
   ],
   "source": [
    "for result in results:\n",
    "    skill_names = result.find_all('span', {'class': 'badge rounded-pill text-bg-light'})\n",
    "for skill_name in skill_names:\n",
    "    print(skill_name.get_text())\n",
    "# skill_names"
   ]
  }
 ],
 "metadata": {
  "kernelspec": {
   "display_name": "Python 3 (ipykernel)",
   "language": "python",
   "name": "python3"
  },
  "language_info": {
   "codemirror_mode": {
    "name": "ipython",
    "version": 3
   },
   "file_extension": ".py",
   "mimetype": "text/x-python",
   "name": "python",
   "nbconvert_exporter": "python",
   "pygments_lexer": "ipython3",
   "version": "3.10.7"
  }
 },
 "nbformat": 4,
 "nbformat_minor": 5
}

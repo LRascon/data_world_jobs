{
 "cells": [
  {
   "attachments": {},
   "cell_type": "markdown",
   "metadata": {},
   "source": [
    "# Segunda opción"
   ]
  },
  {
   "cell_type": "code",
   "execution_count": 18,
   "metadata": {},
   "outputs": [],
   "source": [
    "import requests\n",
    "from bs4 import BeautifulSoup\n",
    "import pandas as pd"
   ]
  },
  {
   "attachments": {},
   "cell_type": "markdown",
   "metadata": {},
   "source": [
    "## Separador"
   ]
  },
  {
   "cell_type": "code",
   "execution_count": 33,
   "metadata": {},
   "outputs": [],
   "source": [
    "import requests\n",
    "from bs4 import BeautifulSoup\n",
    "import pandas as pd"
   ]
  },
  {
   "cell_type": "code",
   "execution_count": 30,
   "metadata": {},
   "outputs": [],
   "source": [
    "# Definir la URL base de la página de trabajo que deseas analizar\n",
    "JOBS_URL = 'https://ai-jobs.net/?cat=12&cat=10&cat=3&cat=6&cat=2&cat=5&cat=15&cat=16&key=&exp='"
   ]
  },
  {
   "cell_type": "code",
   "execution_count": 34,
   "metadata": {},
   "outputs": [],
   "source": [
    "def get_jobs_on_page(url):\n",
    "    response = requests.get(url)\n",
    "    response.raise_for_status()  # Lanza una excepción si el código de estado no es 200\n",
    "    soup = BeautifulSoup(response.content, 'html.parser')\n",
    "    results = soup.find('ul', {'class': 'list-group list-group-flush mb-4'}).find_all('li', {'class': 'list-group-item list-group-item-action p-1'})\n",
    "    return results\n",
    "\n",
    "def get_next_page_url(soup):\n",
    "    next_page = soup.find('a', {'class': 'page-link', 'rel': 'next'})\n",
    "    if next_page:\n",
    "        return next_page['href']\n",
    "    else:\n",
    "        return None\n",
    "\n",
    "def main():\n",
    "    columns = ['Título del empleo', 'Nivel', 'Tipo de empleo', 'Rango salarial', 'Nombre de la empresa', 'Ubicación', 'Habilidades']\n",
    "    jobs_df = pd.DataFrame(columns=columns)\n",
    "\n",
    "    base_url = 'https://ai-jobs.net/'\n",
    "    current_page_url = base_url + '?cat=12&cat=10&cat=3&cat=6&cat=2&cat=5&cat=15&cat=16&key=&exp='\n",
    "\n",
    "    while current_page_url:\n",
    "        print(f\"Procesando página: {current_page_url}\")\n",
    "        jobs_on_page = get_jobs_on_page(current_page_url)\n",
    "\n",
    "        for result in jobs_on_page:\n",
    "            # Extraer datos de empleo aquí y añadir al DataFrame como en el ejemplo anterior\n",
    "\n",
    "            # Obtener la URL de la siguiente página\n",
    "            response = requests.get(current_page_url)\n",
    "            soup = BeautifulSoup(response.content, 'html.parser')\n",
    "            current_page_url = get_next_page_url(soup)\n",
    "\n",
    "    # Guardar el DataFrame en un archivo CSV\n",
    "    jobs_df.to_csv('ai_jobs.csv', index=False)\n",
    "    print(\"Información guardada en el archivo 'ai_jobs.csv'\")\n",
    "\n",
    "#if __name__ == \"__main__\":\n",
    "#    main()\n"
   ]
  },
  {
   "cell_type": "code",
   "execution_count": null,
   "metadata": {},
   "outputs": [],
   "source": [
    "jobs_df"
   ]
  }
 ],
 "metadata": {
  "kernelspec": {
   "display_name": "Python 3",
   "language": "python",
   "name": "python3"
  },
  "language_info": {
   "codemirror_mode": {
    "name": "ipython",
    "version": 3
   },
   "file_extension": ".py",
   "mimetype": "text/x-python",
   "name": "python",
   "nbconvert_exporter": "python",
   "pygments_lexer": "ipython3",
   "version": "3.10.7"
  },
  "orig_nbformat": 4
 },
 "nbformat": 4,
 "nbformat_minor": 2
}
